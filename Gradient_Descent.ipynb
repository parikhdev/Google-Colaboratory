{
  "nbformat": 4,
  "nbformat_minor": 0,
  "metadata": {
    "colab": {
      "provenance": [],
      "authorship_tag": "ABX9TyPiLrMSorC9bGLBpdh6PRHs",
      "include_colab_link": true
    },
    "kernelspec": {
      "name": "python3",
      "display_name": "Python 3"
    },
    "language_info": {
      "name": "python"
    }
  },
  "cells": [
    {
      "cell_type": "markdown",
      "metadata": {
        "id": "view-in-github",
        "colab_type": "text"
      },
      "source": [
        "<a href=\"https://colab.research.google.com/github/parikhdev/Google-Colaboratory/blob/main/Gradient_Descent.ipynb\" target=\"_parent\"><img src=\"https://colab.research.google.com/assets/colab-badge.svg\" alt=\"Open In Colab\"/></a>"
      ]
    },
    {
      "cell_type": "code",
      "execution_count": 11,
      "metadata": {
        "colab": {
          "base_uri": "https://localhost:8080/"
        },
        "id": "hbFsPNCZlDgm",
        "outputId": "8c2cd4a6-064b-4168-c3fb-0e4f35e2a2ad"
      },
      "outputs": [
        {
          "output_type": "stream",
          "name": "stdout",
          "text": [
            "m 4.9600, b 1.4400, cost 89.0000, iteration 0\n",
            "m 0.4992, b 0.2688, cost 71.1056, iteration 1\n",
            "m 4.4516, b 1.4262, cost 56.8298, iteration 2\n",
            "m 0.8922, b 0.5012, cost 45.4397, iteration 3\n",
            "m 4.0413, b 1.4328, cost 36.3509, iteration 4\n",
            "m 2.0000, b 3.0000, cost 0.0000, iteration 996\n",
            "m 2.0000, b 3.0000, cost 0.0000, iteration 997\n",
            "m 2.0000, b 3.0000, cost 0.0000, iteration 998\n",
            "m 2.0000, b 3.0000, cost 0.0000, iteration 999\n"
          ]
        }
      ],
      "source": [
        "import numpy as np\n",
        "\n",
        "def gradient_descent(x,y):\n",
        "  m_curr = b_curr = 0 # m is the slope, b is the intercept\n",
        "  iterations = 1000\n",
        "  n = len(x)\n",
        "  learning_rate = 0.08\n",
        "\n",
        "  for i in range(iterations):\n",
        "    y_predicted = m_curr * x + b_curr # y = mx + b\n",
        "    cost = (1/n) * sum([val**2 for val in (y-y_predicted)]) # Cost\n",
        "    md = -(2/n)*sum(x*(y-y_predicted)) # Partial Derivative of m\n",
        "    bd = -(2/n)*sum(y-y_predicted) # Partial Derivative of b\n",
        "\n",
        "    m_curr = m_curr - learning_rate * md # m = m - learning_rate * Derivative of m\n",
        "    b_curr = b_curr - learning_rate * bd # b = b - learning_rate * Derivative of b\n",
        "\n",
        "    # Print progress for the first few and last few iterations\n",
        "    if i < 5 or i > iterations - 5:\n",
        "      print(\"m {:.4f}, b {:.4f}, cost {:.4f}, iteration {}\".format(m_curr, b_curr, cost, i))\n",
        "\n",
        "# Create some sample data\n",
        "x = np.array([1, 2, 3, 4, 5])\n",
        "y = np.array([5, 7, 9, 11, 13])\n",
        "\n",
        "# Run the gradient descent function\n",
        "gradient_descent(x, y)"
      ]
    }
  ]
}